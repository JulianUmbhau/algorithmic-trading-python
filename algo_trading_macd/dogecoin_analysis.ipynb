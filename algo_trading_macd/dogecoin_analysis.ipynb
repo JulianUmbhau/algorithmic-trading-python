{
 "cells": [
  {
   "cell_type": "code",
   "execution_count": 3,
   "metadata": {},
   "outputs": [],
   "source": [
    "# analysis with other currencies\r\n",
    "# https://www.youtube.com/watch?v=XUsidyuMFsE\r\n",
    "import numpy as np\r\n",
    "import pandas as pd\r\n",
    "import matplotlib.pyplot as plt\r\n",
    "plt.style.use(\"fivethirtyeight\")"
   ]
  },
  {
   "cell_type": "code",
   "execution_count": 6,
   "metadata": {},
   "outputs": [],
   "source": [
    "# find data for andre currencies\r\n",
    "df = pd.read_csv(\"data.csv\")\r\n"
   ]
  },
  {
   "cell_type": "code",
   "execution_count": 7,
   "metadata": {},
   "outputs": [
    {
     "data": {
      "text/html": "<div>\n<style scoped>\n    .dataframe tbody tr th:only-of-type {\n        vertical-align: middle;\n    }\n\n    .dataframe tbody tr th {\n        vertical-align: top;\n    }\n\n    .dataframe thead th {\n        text-align: right;\n    }\n</style>\n<table border=\"1\" class=\"dataframe\">\n  <thead>\n    <tr style=\"text-align: right;\">\n      <th></th>\n      <th>Unnamed: 0</th>\n      <th>Unix.Timestamp</th>\n      <th>Close</th>\n    </tr>\n  </thead>\n  <tbody>\n    <tr>\n      <th>0</th>\n      <td>1</td>\n      <td>2021-02-28 01:02:00</td>\n      <td>45857.03</td>\n    </tr>\n    <tr>\n      <th>1</th>\n      <td>2</td>\n      <td>2021-02-28 01:01:00</td>\n      <td>45833.60</td>\n    </tr>\n    <tr>\n      <th>2</th>\n      <td>3</td>\n      <td>2021-02-28 01:00:00</td>\n      <td>45945.21</td>\n    </tr>\n    <tr>\n      <th>3</th>\n      <td>4</td>\n      <td>2021-02-28 00:59:00</td>\n      <td>46209.62</td>\n    </tr>\n    <tr>\n      <th>4</th>\n      <td>5</td>\n      <td>2021-02-28 00:58:00</td>\n      <td>46115.76</td>\n    </tr>\n    <tr>\n      <th>...</th>\n      <td>...</td>\n      <td>...</td>\n      <td>...</td>\n    </tr>\n    <tr>\n      <th>584632</th>\n      <td>584633</td>\n      <td>2020-01-01 01:04:00</td>\n      <td>7163.00</td>\n    </tr>\n    <tr>\n      <th>584633</th>\n      <td>584634</td>\n      <td>2020-01-01 01:03:00</td>\n      <td>7163.60</td>\n    </tr>\n    <tr>\n      <th>584634</th>\n      <td>584635</td>\n      <td>2020-01-01 01:02:00</td>\n      <td>7163.00</td>\n    </tr>\n    <tr>\n      <th>584635</th>\n      <td>584636</td>\n      <td>2020-01-01 01:01:00</td>\n      <td>7163.30</td>\n    </tr>\n    <tr>\n      <th>584636</th>\n      <td>584637</td>\n      <td>2020-01-01 01:00:00</td>\n      <td>7163.30</td>\n    </tr>\n  </tbody>\n</table>\n<p>584637 rows × 3 columns</p>\n</div>",
      "text/plain": "        Unnamed: 0       Unix.Timestamp     Close\n0                1  2021-02-28 01:02:00  45857.03\n1                2  2021-02-28 01:01:00  45833.60\n2                3  2021-02-28 01:00:00  45945.21\n3                4  2021-02-28 00:59:00  46209.62\n4                5  2021-02-28 00:58:00  46115.76\n...            ...                  ...       ...\n584632      584633  2020-01-01 01:04:00   7163.00\n584633      584634  2020-01-01 01:03:00   7163.60\n584634      584635  2020-01-01 01:02:00   7163.00\n584635      584636  2020-01-01 01:01:00   7163.30\n584636      584637  2020-01-01 01:00:00   7163.30\n\n[584637 rows x 3 columns]"
     },
     "execution_count": 7,
     "metadata": {},
     "output_type": "execute_result"
    }
   ],
   "source": [
    "df"
   ]
  },
  {
   "cell_type": "code",
   "execution_count": null,
   "metadata": {},
   "outputs": [],
   "source": []
  }
 ],
 "metadata": {
  "kernelspec": {
   "display_name": "Python 3.8.8 64-bit ('trading_bot': conda)",
   "metadata": {
    "interpreter": {
     "hash": "2589c09498d29da9f4be9fe4dd3ea54029d34a91fbdb9f52cab60fce54eecbdf"
    }
   },
   "name": "python3"
  },
  "language_info": {
   "codemirror_mode": {
    "name": "ipython",
    "version": 3
   },
   "file_extension": ".py",
   "mimetype": "text/x-python",
   "name": "python",
   "nbconvert_exporter": "python",
   "pygments_lexer": "ipython3",
   "version": "3.8.8"
  },
  "orig_nbformat": 2
 },
 "nbformat": 4,
 "nbformat_minor": 2
}